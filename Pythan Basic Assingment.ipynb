{
 "cells": [
  {
   "cell_type": "code",
   "execution_count": 1,
   "id": "bd5f6043-fd53-419f-8754-f1b1f8960a22",
   "metadata": {},
   "outputs": [
    {
     "name": "stdout",
     "output_type": "stream",
     "text": [
      "23 4\n"
     ]
    }
   ],
   "source": [
    "#Swap value of x and Y\n",
    "\n",
    "x=4\n",
    "y=23\n",
    "\n",
    "x, y= y, x\n",
    "print(x,y)"
   ]
  },
  {
   "cell_type": "code",
   "execution_count": 2,
   "id": "857c9f15-2605-4424-b46c-3fee7c5d3bcb",
   "metadata": {},
   "outputs": [
    {
     "name": "stdin",
     "output_type": "stream",
     "text": [
      "Enter height of rectenlge 24\n",
      "Enter Width of rectangle 3\n"
     ]
    },
    {
     "name": "stdout",
     "output_type": "stream",
     "text": [
      "72\n"
     ]
    }
   ],
   "source": [
    "#Area of rectangle\n",
    "\n",
    "height = int(input(\"Enter height of rectenlge\"))\n",
    "width = int(input(\"Enter Width of rectangle\"))\n",
    "\n",
    "areaofrectangle = height*width\n",
    "\n",
    "print(areaofrectangle)\n"
   ]
  },
  {
   "cell_type": "code",
   "execution_count": 3,
   "id": "4912435c-5bba-4bc8-b3c8-59f0e2ad4abd",
   "metadata": {},
   "outputs": [
    {
     "name": "stdin",
     "output_type": "stream",
     "text": [
      "Enter tempurature in Celcius 37\n"
     ]
    },
    {
     "name": "stdout",
     "output_type": "stream",
     "text": [
      "98.60000000000001\n"
     ]
    }
   ],
   "source": [
    "#temperature to celcius conversion\n",
    "\n",
    "tempurature = float(input(\"Enter tempurature in Celcius\"))\n",
    "fahrenheit = (tempurature * 1.8)+32\n",
    "\n",
    "print(fahrenheit)"
   ]
  },
  {
   "cell_type": "code",
   "execution_count": 4,
   "id": "db942446-cd5c-48a9-a351-b1bd89b6f76b",
   "metadata": {},
   "outputs": [
    {
     "name": "stdin",
     "output_type": "stream",
     "text": [
      "Enter the string Narendra Daud\n"
     ]
    },
    {
     "name": "stdout",
     "output_type": "stream",
     "text": [
      "13\n"
     ]
    }
   ],
   "source": [
    "#Lenght of String\n",
    "\n",
    "x = str(input(\"Enter the string\"))\n",
    "print(len(x))"
   ]
  },
  {
   "cell_type": "code",
   "execution_count": 8,
   "id": "fad5da52-7fbb-450f-8bb0-8236cf082e29",
   "metadata": {},
   "outputs": [
    {
     "name": "stdin",
     "output_type": "stream",
     "text": [
      "Enter your Statement My name is narendra\n"
     ]
    },
    {
     "name": "stdout",
     "output_type": "stream",
     "text": [
      "6\n"
     ]
    }
   ],
   "source": [
    "#Count no of vowels\n",
    "\n",
    "string = input(\"Enter your Statement\")\n",
    "\n",
    "vowels = \"aeiouAEIOU\"\n",
    "\n",
    "count =sum(string.count(vowel) for vowel in vowels)\n",
    "print(count)"
   ]
  },
  {
   "cell_type": "code",
   "execution_count": 6,
   "id": "5eaa38c2-57a7-4156-82a1-d8ccb4383901",
   "metadata": {},
   "outputs": [
    {
     "name": "stdin",
     "output_type": "stream",
     "text": [
      "Enter the Statement which you want to reverse:  nitin\n"
     ]
    },
    {
     "name": "stdout",
     "output_type": "stream",
     "text": [
      "The input string is palindroem\n"
     ]
    }
   ],
   "source": [
    "#Reverse the statement\n",
    "\n",
    "input_string = input(\"Enter the Statement which you want to reverse: \")\n",
    "cleaned_string = input_string.replace(\" \",\" \").lower()\n",
    "reversed_string = cleaned_string[::-1]\n",
    "if cleaned_string == reversed_string:\n",
    "    print(\"The input string is palindroem\")\n",
    "else:\n",
    "    print(\"The input string is not a palindrome\")\n",
    "\n",
    "    "
   ]
  },
  {
   "cell_type": "code",
   "execution_count": 4,
   "id": "7770640a-edee-4309-95ca-fee54a13b638",
   "metadata": {},
   "outputs": [
    {
     "name": "stdin",
     "output_type": "stream",
     "text": [
      "Enter a string:  nitin\n"
     ]
    },
    {
     "name": "stdout",
     "output_type": "stream",
     "text": [
      "The input string is a palindrome.\n"
     ]
    }
   ],
   "source": [
    "input_string = input(\"Enter a string: \")\n",
    "\n",
    "cleaned_string = input_string.replace(\" \", \"\").lower()\n",
    "\n",
    "reversed_string = cleaned_string[::-1]\n",
    "if cleaned_string == reversed_string:\n",
    "    \n",
    "    print(\"The input string is a palindrome.\")\n",
    "else:\n",
    "    print(\"The input string is not a palindrome.\")"
   ]
  },
  {
   "cell_type": "code",
   "execution_count": 10,
   "id": "0d7b8893-bb69-400f-81fe-d239e25def6c",
   "metadata": {},
   "outputs": [
    {
     "name": "stdin",
     "output_type": "stream",
     "text": [
      "Enter a string:  Narendra Devidas Daud\n"
     ]
    },
    {
     "name": "stdout",
     "output_type": "stream",
     "text": [
      "Modified string without spaces: NarendraDevidasDaud\n"
     ]
    }
   ],
   "source": [
    "# Remove spaces from String\n",
    "input_string = input(\"Enter a string: \")\n",
    "\n",
    "modified_string = \"\"\n",
    "\n",
    "for char in input_string:\n",
    "\n",
    "    if char != \" \":        \n",
    "        modified_string += char\n",
    "print(\"Modified string without spaces:\", modified_string)"
   ]
  },
  {
   "cell_type": "code",
   "execution_count": null,
   "id": "573a8d58-88b4-4d4a-9c17-2fe497040221",
   "metadata": {},
   "outputs": [],
   "source": []
  }
 ],
 "metadata": {
  "kernelspec": {
   "display_name": "Python 3 (ipykernel)",
   "language": "python",
   "name": "python3"
  },
  "language_info": {
   "codemirror_mode": {
    "name": "ipython",
    "version": 3
   },
   "file_extension": ".py",
   "mimetype": "text/x-python",
   "name": "python",
   "nbconvert_exporter": "python",
   "pygments_lexer": "ipython3",
   "version": "3.10.8"
  },
  "toc-autonumbering": true
 },
 "nbformat": 4,
 "nbformat_minor": 5
}
